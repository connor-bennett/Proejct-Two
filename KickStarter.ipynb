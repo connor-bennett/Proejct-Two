{
 "cells": [
  {
   "cell_type": "markdown",
   "id": "6d5580f5-1e3a-4c2c-8753-7ecd4246b3f1",
   "metadata": {},
   "source": [
    "## Title: Kickstarter success explorations\n",
    "### Team Members: Connor Bennett< anghel Carillo, Kristopher Church"
   ]
  },
  {
   "cell_type": "code",
   "execution_count": 2,
   "id": "5c4702ab-778f-4cac-be1e-43dd162af288",
   "metadata": {},
   "outputs": [],
   "source": [
    "import pandas as pd\n",
    "import numpy as np\n",
    "import seaborn as sns\n",
    "import matplotlib.pyplot as plt"
   ]
  },
  {
   "cell_type": "code",
   "execution_count": 3,
   "id": "a238f579-8859-432a-9b48-2ff2aef62f85",
   "metadata": {},
   "outputs": [],
   "source": [
    "input_file = 'https://raw.githubusercontent.com/connor-bennett/Proejct-Two/refs/heads/main/kickstarter-projects/ks-projects-201801.csv'\n",
    "df = pd.read_csv(input_file)"
   ]
  },
  {
   "cell_type": "markdown",
   "id": "3a771bda-1601-4c57-b9a1-6c64e26a4ae2",
   "metadata": {},
   "source": [
    "# Explorations"
   ]
  },
  {
   "cell_type": "code",
   "execution_count": 5,
   "id": "c7e515ad-f51f-4855-81af-ab22848e18b9",
   "metadata": {},
   "outputs": [
    {
     "data": {
      "text/html": [
       "<div>\n",
       "<style scoped>\n",
       "    .dataframe tbody tr th:only-of-type {\n",
       "        vertical-align: middle;\n",
       "    }\n",
       "\n",
       "    .dataframe tbody tr th {\n",
       "        vertical-align: top;\n",
       "    }\n",
       "\n",
       "    .dataframe thead th {\n",
       "        text-align: right;\n",
       "    }\n",
       "</style>\n",
       "<table border=\"1\" class=\"dataframe\">\n",
       "  <thead>\n",
       "    <tr style=\"text-align: right;\">\n",
       "      <th></th>\n",
       "      <th>ID</th>\n",
       "      <th>goal</th>\n",
       "      <th>pledged</th>\n",
       "      <th>backers</th>\n",
       "      <th>usd pledged</th>\n",
       "      <th>usd_pledged_real</th>\n",
       "      <th>usd_goal_real</th>\n",
       "    </tr>\n",
       "  </thead>\n",
       "  <tbody>\n",
       "    <tr>\n",
       "      <th>count</th>\n",
       "      <td>3.786610e+05</td>\n",
       "      <td>3.786610e+05</td>\n",
       "      <td>3.786610e+05</td>\n",
       "      <td>378661.000000</td>\n",
       "      <td>3.748640e+05</td>\n",
       "      <td>3.786610e+05</td>\n",
       "      <td>3.786610e+05</td>\n",
       "    </tr>\n",
       "    <tr>\n",
       "      <th>mean</th>\n",
       "      <td>1.074731e+09</td>\n",
       "      <td>4.908079e+04</td>\n",
       "      <td>9.682979e+03</td>\n",
       "      <td>105.617476</td>\n",
       "      <td>7.036729e+03</td>\n",
       "      <td>9.058924e+03</td>\n",
       "      <td>4.545440e+04</td>\n",
       "    </tr>\n",
       "    <tr>\n",
       "      <th>std</th>\n",
       "      <td>6.190862e+08</td>\n",
       "      <td>1.183391e+06</td>\n",
       "      <td>9.563601e+04</td>\n",
       "      <td>907.185035</td>\n",
       "      <td>7.863975e+04</td>\n",
       "      <td>9.097334e+04</td>\n",
       "      <td>1.152950e+06</td>\n",
       "    </tr>\n",
       "    <tr>\n",
       "      <th>min</th>\n",
       "      <td>5.971000e+03</td>\n",
       "      <td>1.000000e-02</td>\n",
       "      <td>0.000000e+00</td>\n",
       "      <td>0.000000</td>\n",
       "      <td>0.000000e+00</td>\n",
       "      <td>0.000000e+00</td>\n",
       "      <td>1.000000e-02</td>\n",
       "    </tr>\n",
       "    <tr>\n",
       "      <th>25%</th>\n",
       "      <td>5.382635e+08</td>\n",
       "      <td>2.000000e+03</td>\n",
       "      <td>3.000000e+01</td>\n",
       "      <td>2.000000</td>\n",
       "      <td>1.698000e+01</td>\n",
       "      <td>3.100000e+01</td>\n",
       "      <td>2.000000e+03</td>\n",
       "    </tr>\n",
       "    <tr>\n",
       "      <th>50%</th>\n",
       "      <td>1.075276e+09</td>\n",
       "      <td>5.200000e+03</td>\n",
       "      <td>6.200000e+02</td>\n",
       "      <td>12.000000</td>\n",
       "      <td>3.947200e+02</td>\n",
       "      <td>6.243300e+02</td>\n",
       "      <td>5.500000e+03</td>\n",
       "    </tr>\n",
       "    <tr>\n",
       "      <th>75%</th>\n",
       "      <td>1.610149e+09</td>\n",
       "      <td>1.600000e+04</td>\n",
       "      <td>4.076000e+03</td>\n",
       "      <td>56.000000</td>\n",
       "      <td>3.034090e+03</td>\n",
       "      <td>4.050000e+03</td>\n",
       "      <td>1.550000e+04</td>\n",
       "    </tr>\n",
       "    <tr>\n",
       "      <th>max</th>\n",
       "      <td>2.147476e+09</td>\n",
       "      <td>1.000000e+08</td>\n",
       "      <td>2.033899e+07</td>\n",
       "      <td>219382.000000</td>\n",
       "      <td>2.033899e+07</td>\n",
       "      <td>2.033899e+07</td>\n",
       "      <td>1.663614e+08</td>\n",
       "    </tr>\n",
       "  </tbody>\n",
       "</table>\n",
       "</div>"
      ],
      "text/plain": [
       "                 ID          goal       pledged        backers   usd pledged  \\\n",
       "count  3.786610e+05  3.786610e+05  3.786610e+05  378661.000000  3.748640e+05   \n",
       "mean   1.074731e+09  4.908079e+04  9.682979e+03     105.617476  7.036729e+03   \n",
       "std    6.190862e+08  1.183391e+06  9.563601e+04     907.185035  7.863975e+04   \n",
       "min    5.971000e+03  1.000000e-02  0.000000e+00       0.000000  0.000000e+00   \n",
       "25%    5.382635e+08  2.000000e+03  3.000000e+01       2.000000  1.698000e+01   \n",
       "50%    1.075276e+09  5.200000e+03  6.200000e+02      12.000000  3.947200e+02   \n",
       "75%    1.610149e+09  1.600000e+04  4.076000e+03      56.000000  3.034090e+03   \n",
       "max    2.147476e+09  1.000000e+08  2.033899e+07  219382.000000  2.033899e+07   \n",
       "\n",
       "       usd_pledged_real  usd_goal_real  \n",
       "count      3.786610e+05   3.786610e+05  \n",
       "mean       9.058924e+03   4.545440e+04  \n",
       "std        9.097334e+04   1.152950e+06  \n",
       "min        0.000000e+00   1.000000e-02  \n",
       "25%        3.100000e+01   2.000000e+03  \n",
       "50%        6.243300e+02   5.500000e+03  \n",
       "75%        4.050000e+03   1.550000e+04  \n",
       "max        2.033899e+07   1.663614e+08  "
      ]
     },
     "execution_count": 5,
     "metadata": {},
     "output_type": "execute_result"
    }
   ],
   "source": [
    "df.describe()"
   ]
  },
  {
   "cell_type": "code",
   "execution_count": 6,
   "id": "49866efd-5faa-423c-9fd5-8620cd2a1f06",
   "metadata": {},
   "outputs": [],
   "source": [
    "### how many missing values are there?\n",
    "### Fill missing names as Unknown"
   ]
  },
  {
   "cell_type": "code",
   "execution_count": 7,
   "id": "903ef72c-30ad-4d9e-b5a2-15cb31dd5545",
   "metadata": {},
   "outputs": [
    {
     "name": "stdout",
     "output_type": "stream",
     "text": [
      "ID                     0\n",
      "name                   4\n",
      "category               0\n",
      "main_category          0\n",
      "currency               0\n",
      "deadline               0\n",
      "goal                   0\n",
      "launched               0\n",
      "pledged                0\n",
      "state                  0\n",
      "backers                0\n",
      "country                0\n",
      "usd pledged         3797\n",
      "usd_pledged_real       0\n",
      "usd_goal_real          0\n",
      "dtype: int64\n",
      "ID                     0\n",
      "name                   0\n",
      "category               0\n",
      "main_category          0\n",
      "currency               0\n",
      "deadline               0\n",
      "goal                   0\n",
      "launched               0\n",
      "pledged                0\n",
      "state                  0\n",
      "backers                0\n",
      "country                0\n",
      "usd pledged         3797\n",
      "usd_pledged_real       0\n",
      "usd_goal_real          0\n",
      "dtype: int64\n"
     ]
    }
   ],
   "source": [
    "# Check how many missing values are in each column\n",
    "print(df.isna().sum())\n",
    "\n",
    "# For 'name', decide how to handle missing values\n",
    "df['name'] = df['name'].fillna('Unknown')  # Replace missing names with 'Unknown'\n",
    "\n",
    "# Verify that there are no more missing values\n",
    "print(df.isna().sum())"
   ]
  },
  {
   "cell_type": "code",
   "execution_count": 8,
   "id": "d0730526-4e36-447c-9127-37bcf91986a8",
   "metadata": {},
   "outputs": [],
   "source": [
    "# Convert dates to datetime"
   ]
  },
  {
   "cell_type": "code",
   "execution_count": 9,
   "id": "c5cb71bf-ed76-4632-a343-b7dad6f5f545",
   "metadata": {},
   "outputs": [
    {
     "name": "stdout",
     "output_type": "stream",
     "text": [
      "ID                           int64\n",
      "name                        object\n",
      "category                    object\n",
      "main_category               object\n",
      "currency                    object\n",
      "deadline            datetime64[ns]\n",
      "goal                       float64\n",
      "launched            datetime64[ns]\n",
      "pledged                    float64\n",
      "state                       object\n",
      "backers                      int64\n",
      "country                     object\n",
      "usd pledged                float64\n",
      "usd_pledged_real           float64\n",
      "usd_goal_real              float64\n",
      "dtype: object\n"
     ]
    }
   ],
   "source": [
    "# Convert 'deadline' and 'launched' to datetime if not already\n",
    "df['deadline'] = pd.to_datetime(df['deadline'])\n",
    "df['launched'] = pd.to_datetime(df['launched'])\n",
    "\n",
    "# Verify the data types\n",
    "print(df.dtypes)\n"
   ]
  },
  {
   "cell_type": "code",
   "execution_count": 16,
   "id": "6720d96e-8047-415e-a237-14a64579f072",
   "metadata": {},
   "outputs": [
    {
     "data": {
      "image/png": "[encoded data removed]",
      "text/plain": [
       "<Figure size 1200x600 with 1 Axes>"
      ]
     },
     "metadata": {},
     "output_type": "display_data"
    }
   ],
   "source": [
    "# Step 1: Create bins and labels for both 'goal' and 'usd pledged'\n",
    "bins = [0, 100, 1000, 5000, 10000, 50000, 100000, np.inf]\n",
    "labels = ['0-100', '101-1k', '1k-5k', '5k-10k', '10k-50k', '50k-100k', '100k+']\n",
    "\n",
    "# Add goal_bins and pledged_bins columns to the DataFrame\n",
    "df['goal_bins'] = pd.cut(df['goal'], bins=bins, labels=labels)\n",
    "df['pledged_bins'] = pd.cut(df['usd pledged'], bins=bins, labels=labels)\n",
    "\n",
    "# Step 2: Count the values in each bin\n",
    "goal_counts = df['goal_bins'].value_counts(sort=False)\n",
    "pledged_counts = df['pledged_bins'].value_counts(sort=False)\n",
    "\n",
    "# Step 3: Create a combined bar plot\n",
    "x = np.arange(len(goal_counts))  # the label locations\n",
    "width = 0.35  # width of the bars\n",
    "\n",
    "plt.figure(figsize=(12, 6))\n",
    "\n",
    "# Plot goal bins\n",
    "plt.bar(x - width/2, goal_counts, width, label='Goal Amount', color='skyblue')\n",
    "\n",
    "# Plot pledged bins\n",
    "plt.bar(x + width/2, pledged_counts, width, label='Pledged Amount', color='lightcoral')\n",
    "\n",
    "# Add labels, title, and legend\n",
    "plt.title(\"Number of Projects by Goal and Pledged Amount Bins\")\n",
    "plt.xlabel(\"Amount Bins\")\n",
    "plt.ylabel(\"Number of Projects\")\n",
    "plt.xticks(x, labels=goal_counts.index, rotation=45, ha='right')  # Set x-tick labels and rotate\n",
    "plt.legend()\n",
    "\n",
    "# Show the plot\n",
    "plt.tight_layout()\n",
    "plt.show()"
   ]
  },
  {
   "cell_type": "code",
   "execution_count": null,
   "id": "e5396ac0-13da-47bf-8ca2-2f9c7b50ec30",
   "metadata": {},
   "outputs": [],
   "source": []
  }
 ],
 "metadata": {
  "kernelspec": {
   "display_name": "Python 3 (ipykernel)",
   "language": "python",
   "name": "python3"
  },
  "language_info": {
   "codemirror_mode": {
    "name": "ipython",
    "version": 3
   },
   "file_extension": ".py",
   "mimetype": "text/x-python",
   "name": "python",
   "nbconvert_exporter": "python",
   "pygments_lexer": "ipython3",
   "version": "3.12.4"
  }
 },
 "nbformat": 4,
 "nbformat_minor": 5
}
