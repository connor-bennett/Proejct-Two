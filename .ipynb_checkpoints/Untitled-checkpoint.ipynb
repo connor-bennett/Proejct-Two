{
 "cells": [
  {
   "cell_type": "code",
   "execution_count": 2,
   "id": "5c4702ab-778f-4cac-be1e-43dd162af288",
   "metadata": {},
   "outputs": [],
   "source": [
    "import pandas as pd\n",
    "import numpy as np\n",
    "import seaborn as sns"
   ]
  },
  {
   "cell_type": "code",
   "execution_count": 8,
   "id": "a238f579-8859-432a-9b48-2ff2aef62f85",
   "metadata": {},
   "outputs": [
    {
     "name": "stdout",
     "output_type": "stream",
     "text": [
      "           ID                                               name  \\\n",
      "0  1000002330                    The Songs of Adelaide & Abullah   \n",
      "1  1000003930      Greeting From Earth: ZGAC Arts Capsule For ET   \n",
      "2  1000004038                                     Where is Hank?   \n",
      "3  1000007540  ToshiCapital Rekordz Needs Help to Complete Album   \n",
      "4  1000011046  Community Film Project: The Art of Neighborhoo...   \n",
      "\n",
      "         category main_category currency    deadline     goal  \\\n",
      "0          Poetry    Publishing      GBP  2015-10-09   1000.0   \n",
      "1  Narrative Film  Film & Video      USD  2017-11-01  30000.0   \n",
      "2  Narrative Film  Film & Video      USD  2013-02-26  45000.0   \n",
      "3           Music         Music      USD  2012-04-16   5000.0   \n",
      "4    Film & Video  Film & Video      USD  2015-08-29  19500.0   \n",
      "\n",
      "              launched  pledged     state  backers country  usd pledged  \\\n",
      "0  2015-08-11 12:12:28      0.0    failed        0      GB          0.0   \n",
      "1  2017-09-02 04:43:57   2421.0    failed       15      US        100.0   \n",
      "2  2013-01-12 00:20:50    220.0    failed        3      US        220.0   \n",
      "3  2012-03-17 03:24:11      1.0    failed        1      US          1.0   \n",
      "4  2015-07-04 08:35:03   1283.0  canceled       14      US       1283.0   \n",
      "\n",
      "   usd_pledged_real  usd_goal_real  \n",
      "0               0.0        1533.95  \n",
      "1            2421.0       30000.00  \n",
      "2             220.0       45000.00  \n",
      "3               1.0        5000.00  \n",
      "4            1283.0       19500.00  \n"
     ]
    }
   ],
   "source": [
    "folder_path = '~/Desktop/All/DSProject/kickstarter-projects/'\n",
    "# Load the CSV file into a DataFrame\n",
    "df = pd.read_csv(folder_path + 'ks-projects-201801.csv')\n",
    "\n",
    "# Display the first few rows of the data\n",
    "print(df.head())\n",
    "# Display the first few rows of the data\n",
    "print(file.head())"
   ]
  },
  {
   "cell_type": "code",
   "execution_count": null,
   "id": "c7e515ad-f51f-4855-81af-ab22848e18b9",
   "metadata": {},
   "outputs": [],
   "source": []
  }
 ],
 "metadata": {
  "kernelspec": {
   "display_name": "Python 3 (ipykernel)",
   "language": "python",
   "name": "python3"
  },
  "language_info": {
   "codemirror_mode": {
    "name": "ipython",
    "version": 3
   },
   "file_extension": ".py",
   "mimetype": "text/x-python",
   "name": "python",
   "nbconvert_exporter": "python",
   "pygments_lexer": "ipython3",
   "version": "3.12.4"
  }
 },
 "nbformat": 4,
 "nbformat_minor": 5
}
